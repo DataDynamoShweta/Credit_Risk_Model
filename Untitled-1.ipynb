{
 "cells": [
  {
   "cell_type": "code",
   "execution_count": 23,
   "metadata": {},
   "outputs": [
    {
     "name": "stdout",
     "output_type": "stream",
     "text": [
      "             Metric                    Score\n",
      "0          Mean AUC                 0.998708\n",
      "1      Scaled Score                      596\n",
      "2  Confusion Matrix  [[83660, 4], [33, 522]]\n"
     ]
    }
   ],
   "source": [
    "import pandas as pd\n",
    "import numpy as np\n",
    "from sklearn.model_selection import train_test_split, RepeatedStratifiedKFold, cross_val_score\n",
    "from sklearn.linear_model import LogisticRegression\n",
    "from sklearn.metrics import roc_auc_score, confusion_matrix\n",
    "from sklearn.impute import SimpleImputer\n",
    "from sklearn.preprocessing import StandardScaler\n",
    "\n",
    "def scale_score(raw_score, min_score=300, max_score=900):\n",
    "    \"\"\"Scales the raw score to fit within the specified range.\"\"\"\n",
    "    scaled = np.clip((raw_score - 0.5) * (max_score - min_score) + min_score, min_score, max_score)\n",
    "    return int(scaled)\n",
    "\n",
    "def preprocess_data(df):\n",
    "    \"\"\"Preprocesses the dataset by dropping irrelevant columns and handling missing values.\"\"\"\n",
    "    columns_to_drop = ['id', 'member_id', 'url', 'desc', 'title', 'zip_code', \n",
    "                       'issue_d', 'last_pymnt_d', 'next_pymnt_d', \n",
    "                       'last_credit_pull_d', 'pymnt_plan', 'emp_title']\n",
    "    \n",
    "    # Drop irrelevant columns and handle missing values in a single step\n",
    "    df = df.drop(columns=columns_to_drop)\n",
    "    \n",
    "    imputer_num = SimpleImputer(strategy='mean')\n",
    "    imputer_cat = SimpleImputer(strategy='most_frequent')\n",
    "    \n",
    "    # Impute missing values for numerical and categorical columns\n",
    "    df[df.select_dtypes(include=['float64', 'int64']).columns] = imputer_num.fit_transform(df.select_dtypes(include=['float64', 'int64']))\n",
    "    df[df.select_dtypes(include=['object']).columns] = imputer_cat.fit_transform(df.select_dtypes(include=['object']))\n",
    "    \n",
    "    return df\n",
    "\n",
    "def generate_scorecard(data_path, target_column='loan_status', test_size=0.2, random_state=42):\n",
    "    \"\"\"Generates a scorecard using logistic regression on the provided dataset.\"\"\"\n",
    "    # Load and preprocess data\n",
    "    df = pd.read_csv(data_path, low_memory=False)\n",
    "    df = preprocess_data(df)\n",
    "\n",
    "    # Split data into features and target variable\n",
    "    X = pd.get_dummies(df.drop(columns=[target_column]))\n",
    "    y = (df[target_column] == 'Charged Off').astype(int)\n",
    "\n",
    "    # Scale features\n",
    "    X_scaled = StandardScaler().fit_transform(X)\n",
    "\n",
    "    # Split dataset into training and testing sets\n",
    "    X_train, X_test, y_train, y_test = train_test_split(X_scaled, y, test_size=test_size, random_state=random_state)\n",
    "\n",
    "    # Define and fit logistic regression model\n",
    "    model = LogisticRegression(max_iter=100, solver='liblinear')  # 'liblinear' is suitable for small datasets\n",
    "\n",
    "    # Cross-validation for reliable AUC score\n",
    "    cv = RepeatedStratifiedKFold(n_splits=10, n_repeats=3, random_state=random_state)\n",
    "    scores = cross_val_score(model, X_train, y_train, scoring='roc_auc', cv=cv)\n",
    "\n",
    "    # Train model on full training set\n",
    "    model.fit(X_train, y_train)\n",
    "\n",
    "    # Predictions and evaluation\n",
    "    y_pred_proba = model.predict_proba(X_test)[:, 1]\n",
    "    auc_score = roc_auc_score(y_test, y_pred_proba)\n",
    "    y_pred = model.predict(X_test)\n",
    "    conf_matrix = confusion_matrix(y_test, y_pred)\n",
    "\n",
    "    # Scale AUC score\n",
    "    scaled_auc = scale_score(auc_score)\n",
    "\n",
    "    # Create scorecard DataFrame\n",
    "    scorecard = pd.DataFrame({\n",
    "        'Metric': ['Mean AUC', 'Scaled Score', 'Confusion Matrix'],\n",
    "        'Score': [scores.mean(), scaled_auc, conf_matrix.tolist()]\n",
    "    })\n",
    "\n",
    "    return scorecard\n",
    "\n",
    "scorecard = generate_scorecard('loan_data_2015.csv')\n",
    "print(scorecard)\n"
   ]
  },
  {
   "cell_type": "code",
   "execution_count": 24,
   "metadata": {},
   "outputs": [
    {
     "data": {
      "text/html": [
       "<div>\n",
       "<style scoped>\n",
       "    .dataframe tbody tr th:only-of-type {\n",
       "        vertical-align: middle;\n",
       "    }\n",
       "\n",
       "    .dataframe tbody tr th {\n",
       "        vertical-align: top;\n",
       "    }\n",
       "\n",
       "    .dataframe thead th {\n",
       "        text-align: right;\n",
       "    }\n",
       "</style>\n",
       "<table border=\"1\" class=\"dataframe\">\n",
       "  <thead>\n",
       "    <tr style=\"text-align: right;\">\n",
       "      <th></th>\n",
       "      <th>Metric</th>\n",
       "      <th>Score</th>\n",
       "    </tr>\n",
       "  </thead>\n",
       "  <tbody>\n",
       "    <tr>\n",
       "      <th>0</th>\n",
       "      <td>Mean AUC</td>\n",
       "      <td>0.998708</td>\n",
       "    </tr>\n",
       "    <tr>\n",
       "      <th>1</th>\n",
       "      <td>Scaled Score</td>\n",
       "      <td>596</td>\n",
       "    </tr>\n",
       "    <tr>\n",
       "      <th>2</th>\n",
       "      <td>Confusion Matrix</td>\n",
       "      <td>[[83660, 4], [33, 522]]</td>\n",
       "    </tr>\n",
       "  </tbody>\n",
       "</table>\n",
       "</div>"
      ],
      "text/plain": [
       "             Metric                    Score\n",
       "0          Mean AUC                 0.998708\n",
       "1      Scaled Score                      596\n",
       "2  Confusion Matrix  [[83660, 4], [33, 522]]"
      ]
     },
     "execution_count": 24,
     "metadata": {},
     "output_type": "execute_result"
    }
   ],
   "source": [
    "scorecard"
   ]
  }
 ],
 "metadata": {
  "kernelspec": {
   "display_name": "Python 3",
   "language": "python",
   "name": "python3"
  },
  "language_info": {
   "codemirror_mode": {
    "name": "ipython",
    "version": 3
   },
   "file_extension": ".py",
   "mimetype": "text/x-python",
   "name": "python",
   "nbconvert_exporter": "python",
   "pygments_lexer": "ipython3",
   "version": "3.12.4"
  }
 },
 "nbformat": 4,
 "nbformat_minor": 2
}
